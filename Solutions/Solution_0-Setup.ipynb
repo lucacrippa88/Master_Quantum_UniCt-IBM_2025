{
 "cells": [
  {
   "cell_type": "markdown",
   "id": "abdbb96a9a2cd9af",
   "metadata": {
    "collapsed": false
   },
   "source": [
    "# Introduction \n",
    "\n",
    "This notebook focuses on the setup of the environment needed ot access IBM Quantum computers via IBM Quantum platform or IBM Cloud platform, and to highlight the differences.\n",
    "\n",
    "IBM Quantum platform: https://quantum.ibm.com\n",
    "\n",
    "IBM Cloud platform: https://quantum.cloud.ibm.com\n",
    "\n"
   ]
  },
  {
   "cell_type": "markdown",
   "id": "7e95c1f405fd777f",
   "metadata": {
    "collapsed": false
   },
   "source": [
    "### Install dependencies and check qiskit version \n",
    "\n",
    "First, let us install all the needed dependencies"
   ]
  },
  {
   "cell_type": "code",
   "execution_count": null,
   "id": "47ed4c32",
   "metadata": {},
   "outputs": [],
   "source": [
    "# Install packages in the current Jupyter kernel\n",
    "\n",
    "import sys\n",
    "!{sys.executable} -m pip install qiskit==1.0.2\n",
    "!{sys.executable} -m pip install qiskit-aer==0.14.2\n",
    "!{sys.executable} -m pip install qiskit-algorithms==0.3.1\n",
    "!{sys.executable} -m pip install qiskit-ibm-provider==0.11.0\n",
    "!{sys.executable} -m pip install qiskit-ibm-runtime==0.23.0"
   ]
  },
  {
   "cell_type": "code",
   "execution_count": null,
   "id": "62b6bbad9fb72a58",
   "metadata": {
    "ExecuteTime": {
     "end_time": "2024-12-09T11:20:29.196674Z",
     "start_time": "2024-12-09T11:20:25.040576Z"
    },
    "collapsed": false
   },
   "outputs": [],
   "source": [
    "# Basic imports (all others will be imported when needed for teaching purposes)\n",
    "\n",
    "import numpy as np\n",
    "import matplotlib.pyplot as plt\n",
    "\n",
    "import qiskit.version\n",
    "print(\"You are using Qiskit \"+qiskit.version.get_version_info())\n"
   ]
  },
  {
   "cell_type": "markdown",
   "id": "1e6ef22f0c8eed67",
   "metadata": {
    "collapsed": false
   },
   "source": [
    "### Setup access to IBM Quantum computers\n"
   ]
  },
  {
   "cell_type": "code",
   "execution_count": null,
   "id": "b314811497d2556e",
   "metadata": {
    "ExecuteTime": {
     "end_time": "2024-12-09T11:20:32.560525Z",
     "start_time": "2024-12-09T11:20:32.557306Z"
    },
    "collapsed": false
   },
   "outputs": [],
   "source": [
    "from qiskit_ibm_runtime import QiskitRuntimeService\n",
    "\n",
    "# Select the platform: IBM Quantum (quantum.ibm.com) or IBM Cloud (quantum.cloud.ibm.com)\n",
    "channel = 'ibm_cloud' #ibm_cloud, #ibn_quantum\n",
    "\n",
    "if channel == 'ibm_quantum':\n",
    "  service = QiskitRuntimeService(\n",
    "    channel = channel,\n",
    "    # IBM Quantum token\n",
    "    token = 'c98833e5497b25a09ad6be84c4426a08926255f71077879d320db6973fc9b8f62e7f60a0c01a069505bf9b9dbc0204d4c085a640e2c7abde5fb6043ec940c4e4',\n",
    "  )\n",
    "\n",
    "elif channel == 'ibm_cloud':\n",
    "  service = QiskitRuntimeService(\n",
    "    channel = channel,\n",
    "    # IBM Cloud API key\n",
    "    token = 'R6irP0eGDozOPTDhid6a1swBdtO7WYdrvslxiux5Bbml',\n",
    "    # IBM Cloud CRN\n",
    "    instance = 'crn:v1:bluemix:public:quantum-computing:eu-de:a/407c1354306b46f8bb9a9aa2ed7cc42a:f45e2a0c-5f50-4d2f-ac9b-08d17d878f88::'\n",
    "  )"
   ]
  },
  {
   "cell_type": "code",
   "execution_count": null,
   "id": "7209791b",
   "metadata": {},
   "outputs": [],
   "source": [
    "# List all backend names\n",
    "backends = service.backends()\n",
    "print([backend.name for backend in backends])"
   ]
  },
  {
   "cell_type": "code",
   "execution_count": null,
   "id": "510b098b",
   "metadata": {},
   "outputs": [],
   "source": [
    "from qiskit_aer import AerSimulator\n",
    "\n",
    "# Run type configuration\n",
    "run_target = 'simulator' #simulator, #least_busy, #any hw printed above\n",
    "\n",
    "if run_target == 'simulator':\n",
    "    backend = AerSimulator()\n",
    "\n",
    "elif run_target == 'least_busy':\n",
    "    backend = service.least_busy(operational=True, simulator=False)\n",
    "\n",
    "else:\n",
    "    backend = service.backend('ibm_sherbrooke')\n",
    "\n",
    "print(\"Selected channel: \"+channel)\n",
    "print(\"Selected backend: \"+backend.name)\n",
    "\n",
    "if ((channel == 'ibm_quantum') and (run_target != 'simulator')):\n",
    "    print (\"-- WARNING: This run may consume several minutes of your Open plan\")\n",
    "elif ((channel == 'ibm_cloud') and (run_target != 'simulator')):\n",
    "    print (\"-- WARNING: This run may consume several credits of your Paygo plan: ~1.6$/second\")\n",
    "elif (run_target == 'simulator'):\n",
    "    print (\"-- This run will be a quick simulation using Qiskit Aer\")\n"
   ]
  },
  {
   "cell_type": "markdown",
   "id": "3e095187576dad54",
   "metadata": {
    "collapsed": false
   },
   "source": [
    "Congratulations! You successfully gained access to IBM Quantum computers! Easy, right? ;)"
   ]
  }
 ],
 "metadata": {
  "colab": {
   "provenance": []
  },
  "kernelspec": {
   "display_name": "qiskit_1",
   "language": "python",
   "name": "python3"
  },
  "language_info": {
   "codemirror_mode": {
    "name": "ipython",
    "version": 3
   },
   "file_extension": ".py",
   "mimetype": "text/x-python",
   "name": "python",
   "nbconvert_exporter": "python",
   "pygments_lexer": "ipython3",
   "version": "3.10.8"
  },
  "widgets": {
   "application/vnd.jupyter.widget-state+json": {
    "state": {
     "04f4dff38f9f41679350e9968d15e4ed": {
      "model_module": "@jupyter-widgets/controls",
      "model_module_version": "2.0.0",
      "model_name": "HTMLModel",
      "state": {
       "layout": "IPY_MODEL_da2ca4444c6142fbbbc7fb11c0e1b14d",
       "style": "IPY_MODEL_2c5d532668d84f7da2e2062ee1eb41f3",
       "value": "<h5>Job ID</h5>"
      }
     },
     "05e39ac88c19416db119650989a93af9": {
      "model_module": "@jupyter-widgets/controls",
      "model_module_version": "2.0.0",
      "model_name": "HBoxModel",
      "state": {
       "children": [
        "IPY_MODEL_04f4dff38f9f41679350e9968d15e4ed",
        "IPY_MODEL_2868b1d61fa34c209732d7f51f39f202",
        "IPY_MODEL_7ed7b97cf2bf45e3ac52d9bd2109470d",
        "IPY_MODEL_cd4ecac887884263815c17457380c553",
        "IPY_MODEL_a8261fa2cc2549f2a84358544abcb64c"
       ],
       "layout": "IPY_MODEL_5df3c486899945f8bda15dd4e0fa6962"
      }
     },
     "0f61aaa7d4f242d3ae4c7c14d81104c2": {
      "model_module": "@jupyter-widgets/base",
      "model_module_version": "2.0.0",
      "model_name": "LayoutModel",
      "state": {
       "grid_template_areas": "\n                                       \". . . . right \"\n                                        ",
       "grid_template_columns": "20% 20% 20% 20% 20%",
       "width": "100%"
      }
     },
     "14233a6dd45e43e8a6a6b76473653c75": {
      "model_module": "@jupyter-widgets/base",
      "model_module_version": "2.0.0",
      "model_name": "LayoutModel",
      "state": {
       "margin": "0px 0px 10px 0px"
      }
     },
     "2868b1d61fa34c209732d7f51f39f202": {
      "model_module": "@jupyter-widgets/controls",
      "model_module_version": "2.0.0",
      "model_name": "HTMLModel",
      "state": {
       "layout": "IPY_MODEL_d04c61faf6a940efb83393fbe4186d80",
       "style": "IPY_MODEL_b853df6a86044c8ca11b680b3d15ac05",
       "value": "<h5>Backend</h5>"
      }
     },
     "2c5d532668d84f7da2e2062ee1eb41f3": {
      "model_module": "@jupyter-widgets/controls",
      "model_module_version": "2.0.0",
      "model_name": "HTMLStyleModel",
      "state": {
       "description_width": "",
       "font_size": null,
       "text_color": null
      }
     },
     "3a3add8268a546b3b5facf444d57f9d7": {
      "model_module": "@jupyter-widgets/base",
      "model_module_version": "2.0.0",
      "model_name": "LayoutModel",
      "state": {}
     },
     "3c4c67cc629042ca8eacb6fbf6eb784e": {
      "model_module": "@jupyter-widgets/controls",
      "model_module_version": "2.0.0",
      "model_name": "HTMLModel",
      "state": {
       "layout": "IPY_MODEL_14233a6dd45e43e8a6a6b76473653c75",
       "style": "IPY_MODEL_e9eb8982d0c446c59dc4af6ce31872b4",
       "value": "<p style='font-family: IBM Plex Sans, Arial, Helvetica, sans-serif; font-size: 20px; font-weight: medium;'>Circuit Properties</p>"
      }
     },
     "4bbc4fa9d27c446393d0d667435c0a7a": {
      "model_module": "@jupyter-widgets/base",
      "model_module_version": "2.0.0",
      "model_name": "LayoutModel",
      "state": {
       "grid_area": "right",
       "padding": "0px 0px 0px 0px",
       "width": "70px"
      }
     },
     "4c2d9b973d5541b29941e698dd75be75": {
      "model_module": "@jupyter-widgets/base",
      "model_module_version": "2.0.0",
      "model_name": "LayoutModel",
      "state": {
       "width": "95px"
      }
     },
     "5df3c486899945f8bda15dd4e0fa6962": {
      "model_module": "@jupyter-widgets/base",
      "model_module_version": "2.0.0",
      "model_name": "LayoutModel",
      "state": {
       "margin": "0px 0px 0px 37px",
       "width": "600px"
      }
     },
     "7ed7b97cf2bf45e3ac52d9bd2109470d": {
      "model_module": "@jupyter-widgets/controls",
      "model_module_version": "2.0.0",
      "model_name": "HTMLModel",
      "state": {
       "layout": "IPY_MODEL_4c2d9b973d5541b29941e698dd75be75",
       "style": "IPY_MODEL_f9983d91abf3402bb28771a0c1f9f06b",
       "value": "<h5>Status</h5>"
      }
     },
     "971b1fb5c55a4c49b83854ef83cdbe35": {
      "model_module": "@jupyter-widgets/controls",
      "model_module_version": "2.0.0",
      "model_name": "HTMLStyleModel",
      "state": {
       "description_width": "",
       "font_size": null,
       "text_color": null
      }
     },
     "9f56309a545648a7a15bdd3eed61357d": {
      "model_module": "@jupyter-widgets/controls",
      "model_module_version": "2.0.0",
      "model_name": "ButtonModel",
      "state": {
       "button_style": "primary",
       "description": "Clear",
       "layout": "IPY_MODEL_4bbc4fa9d27c446393d0d667435c0a7a",
       "style": "IPY_MODEL_dfff7b74ee6d42faab93a859c068fddd",
       "tooltip": null
      }
     },
     "a8261fa2cc2549f2a84358544abcb64c": {
      "model_module": "@jupyter-widgets/controls",
      "model_module_version": "2.0.0",
      "model_name": "HTMLModel",
      "state": {
       "layout": "IPY_MODEL_3a3add8268a546b3b5facf444d57f9d7",
       "style": "IPY_MODEL_971b1fb5c55a4c49b83854ef83cdbe35",
       "value": "<h5>Message</h5>"
      }
     },
     "b853df6a86044c8ca11b680b3d15ac05": {
      "model_module": "@jupyter-widgets/controls",
      "model_module_version": "2.0.0",
      "model_name": "HTMLStyleModel",
      "state": {
       "description_width": "",
       "font_size": null,
       "text_color": null
      }
     },
     "bd2ed43df1994e04af37c23880fbef33": {
      "model_module": "@jupyter-widgets/base",
      "model_module_version": "2.0.0",
      "model_name": "LayoutModel",
      "state": {
       "width": "70px"
      }
     },
     "cd4ecac887884263815c17457380c553": {
      "model_module": "@jupyter-widgets/controls",
      "model_module_version": "2.0.0",
      "model_name": "HTMLModel",
      "state": {
       "layout": "IPY_MODEL_bd2ed43df1994e04af37c23880fbef33",
       "style": "IPY_MODEL_d6d5e6f58fb8453b9d40b4a653aa49cb",
       "value": "<h5>Queue</h5>"
      }
     },
     "d04c61faf6a940efb83393fbe4186d80": {
      "model_module": "@jupyter-widgets/base",
      "model_module_version": "2.0.0",
      "model_name": "LayoutModel",
      "state": {
       "width": "145px"
      }
     },
     "d3c3e29d8b2040848b032478f036a8f9": {
      "model_module": "@jupyter-widgets/controls",
      "model_module_version": "2.0.0",
      "model_name": "GridBoxModel",
      "state": {
       "children": [
        "IPY_MODEL_9f56309a545648a7a15bdd3eed61357d"
       ],
       "layout": "IPY_MODEL_0f61aaa7d4f242d3ae4c7c14d81104c2"
      }
     },
     "d6d5e6f58fb8453b9d40b4a653aa49cb": {
      "model_module": "@jupyter-widgets/controls",
      "model_module_version": "2.0.0",
      "model_name": "HTMLStyleModel",
      "state": {
       "description_width": "",
       "font_size": null,
       "text_color": null
      }
     },
     "da2ca4444c6142fbbbc7fb11c0e1b14d": {
      "model_module": "@jupyter-widgets/base",
      "model_module_version": "2.0.0",
      "model_name": "LayoutModel",
      "state": {
       "width": "190px"
      }
     },
     "dfff7b74ee6d42faab93a859c068fddd": {
      "model_module": "@jupyter-widgets/controls",
      "model_module_version": "2.0.0",
      "model_name": "ButtonStyleModel",
      "state": {
       "font_family": null,
       "font_size": null,
       "font_style": null,
       "font_variant": null,
       "font_weight": null,
       "text_color": null,
       "text_decoration": null
      }
     },
     "e9eb8982d0c446c59dc4af6ce31872b4": {
      "model_module": "@jupyter-widgets/controls",
      "model_module_version": "2.0.0",
      "model_name": "HTMLStyleModel",
      "state": {
       "description_width": "",
       "font_size": null,
       "text_color": null
      }
     },
     "f9983d91abf3402bb28771a0c1f9f06b": {
      "model_module": "@jupyter-widgets/controls",
      "model_module_version": "2.0.0",
      "model_name": "HTMLStyleModel",
      "state": {
       "description_width": "",
       "font_size": null,
       "text_color": null
      }
     }
    },
    "version_major": 2,
    "version_minor": 0
   }
  }
 },
 "nbformat": 4,
 "nbformat_minor": 5
}
