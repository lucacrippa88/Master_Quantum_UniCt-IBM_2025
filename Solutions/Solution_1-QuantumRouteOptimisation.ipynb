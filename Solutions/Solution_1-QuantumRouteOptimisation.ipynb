{
 "cells": [
  {
   "cell_type": "markdown",
   "id": "abdbb96a9a2cd9af",
   "metadata": {
    "collapsed": false
   },
   "source": [
    "# Introduction \n",
    "\n",
    "This notebook focuses on applying the [Variational Quantum Eigensolver](https://learning.quantum.ibm.com/tutorial/variational-quantum-eigensolver) (VQE) algorithm to solve the [Traveling Salesman Problem (TSP)](https://en.wikipedia.org/wiki/Travelling_salesman_problem), an [NP-Complete](https://en.wikipedia.org/wiki/NP-completeness) problem which has been in computer science literature since a long time. A very straightforward definition of the problem could be the following: \n",
    "\n",
    "<p style=\"text-align: center; bold\"> <b> Given a list of cities and the distances between each pair of cities, what is the shortest possible route that visits each city exactly once and returns to the origin city? </b> </p>\n",
    "\n",
    "Think about such problem, for a user which has thousands of cities and routes to analyze: it becomes immediately clear how easily the computation time increases. In order to solve TSP using quantum computers, we first need to rethink the problem definition according to quantum mechanics. Since TSP is a [combinatorial optimization](https://en.wikipedia.org/wiki/Combinatorial_optimization) problem, we can use the Quadratic unconstrained binary optimization (QUBO) formulation, which is specifically designed to exploit quantum computation to solve classical combinatorial optimization problems: oversimplifying, QUBO formulation rewrites the problem using a different cost function, which includes the constraints in form of quadratic penalties, since QUBO formulation is, as the name suggests, unconstrained. Once a generic combinatorial problem is expressed in a QUBO formulation, we can transform the problem once more, by leveraging the [universality class](https://en.wikipedia.org/wiki/Universality_class) of the Ising Model. Using Ising Model to solve combinatorial optimization problems is convenient in this context since it provides a straightforward way to represent the problem according to quantum mechanics laws and thus it let us use the quantum computer power to solve it.\n",
    "\n"
   ]
  },
  {
   "cell_type": "markdown",
   "id": "7e95c1f405fd777f",
   "metadata": {
    "collapsed": false
   },
   "source": [
    "### Install dependencies and check qiskit version \n",
    "\n",
    "First, let us install all the needed dependencies and check that we are using Qiskit 1.0.2 version "
   ]
  },
  {
   "cell_type": "code",
   "execution_count": null,
   "id": "47ed4c32",
   "metadata": {},
   "outputs": [],
   "source": [
    "# Install packages in the current Jupyter kernel\n",
    "\n",
    "import sys\n",
    "!{sys.executable} -m pip install qiskit==1.0.2\n",
    "!{sys.executable} -m pip install qiskit-aer==0.14.2\n",
    "!{sys.executable} -m pip install qiskit-algorithms==0.3.1\n",
    "!{sys.executable} -m pip install qiskit-ibm-provider==0.11.0\n",
    "!{sys.executable} -m pip install qiskit-ibm-runtime==0.23.0\n",
    "!{sys.executable} -m pip install qiskit-machine-learning==0.8.2\n",
    "!{sys.executable} -m pip install qiskit-optimization==0.6.1"
   ]
  },
  {
   "cell_type": "code",
   "execution_count": null,
   "id": "62b6bbad9fb72a58",
   "metadata": {
    "ExecuteTime": {
     "end_time": "2024-12-09T11:20:29.196674Z",
     "start_time": "2024-12-09T11:20:25.040576Z"
    },
    "collapsed": false
   },
   "outputs": [],
   "source": [
    "# Basic imports (all others will be imported when needed for teaching purposes)\n",
    "\n",
    "import numpy as np\n",
    "import matplotlib.pyplot as plt\n",
    "\n",
    "import qiskit.version\n",
    "print(\"You are using Qiskit \"+qiskit.version.get_version_info())\n"
   ]
  },
  {
   "cell_type": "markdown",
   "id": "8ad56e712e876a7b",
   "metadata": {
    "collapsed": false
   },
   "source": [
    "### Utility functions and classical problem definition\n",
    "Let us define some utility functions and the problem in a classical way by using networkx as graph utility library and qiskit_optimization.applications Tsp object representation. This gives us a convenient python object to represent the TSP and also to natively interpret the solutions provided by the quantum computer as graph routes"
   ]
  },
  {
   "cell_type": "code",
   "execution_count": null,
   "id": "27542a9f-2a47-42dd-98e8-65eb3c951cb4",
   "metadata": {
    "ExecuteTime": {
     "end_time": "2024-12-09T11:20:29.210916Z",
     "start_time": "2024-12-09T11:20:29.198692Z"
    },
    "executionInfo": {
     "elapsed": 8,
     "status": "ok",
     "timestamp": 1703347975105,
     "user": {
      "displayName": "valeria prevete",
      "userId": "11323486858887833035"
     },
     "user_tz": -60
    },
    "id": "27542a9f-2a47-42dd-98e8-65eb3c951cb4",
    "tags": []
   },
   "outputs": [],
   "source": [
    "import networkx as nx\n",
    "from qiskit_optimization.applications import Tsp\n",
    "\n",
    "\n",
    "# Utility function to draw an input graph\n",
    "def draw_graph(G, colors, pos):\n",
    "    default_axes = plt.axes(frameon=True)\n",
    "    nx.draw_networkx(G, node_color=colors, node_size=600, alpha=0.8, ax=default_axes, pos=pos)\n",
    "    edge_labels = nx.get_edge_attributes(G, \"weight\")\n",
    "    nx.draw_networkx_edge_labels(G, pos=pos, edge_labels=edge_labels)\n",
    "    plt.title(\"Cities and route lengths\", fontsize=12)\n",
    "\n",
    "\n",
    "# Utility function to highlight a graph path on a given input graph\n",
    "def draw_tsp_solution(G, order, colors, pos, title):\n",
    "    G2 = nx.DiGraph()\n",
    "    G2.add_nodes_from(G)\n",
    "    n = len(order)\n",
    "    for i in range(n):\n",
    "        j = (i + 1) % n\n",
    "        G2.add_edge(order[i], order[j], weight=G[order[i]][order[j]][\"weight\"])\n",
    "    default_axes = plt.axes(frameon=True)\n",
    "    nx.draw_networkx(G2, node_color=colors, edge_color=\"b\", node_size=600, alpha=0.8, ax=default_axes, pos=pos)\n",
    "    edge_labels = nx.get_edge_attributes(G2, \"weight\")\n",
    "    nx.draw_networkx_edge_labels(G2, pos, font_color=\"b\", edge_labels=edge_labels)\n",
    "    plt.title(\"Best route found - \"+title, fontsize=12)\n",
    " \n"
   ]
  },
  {
   "cell_type": "code",
   "execution_count": null,
   "id": "c0af978fcaf97927",
   "metadata": {
    "ExecuteTime": {
     "end_time": "2024-12-09T11:20:29.408458Z",
     "start_time": "2024-12-09T11:20:29.212923Z"
    },
    "collapsed": false
   },
   "outputs": [],
   "source": [
    "# Problem definition: we define a new random graph with n nodes\n",
    "n = 5\n",
    "tsp_problem = Tsp.create_random_instance(n)\n",
    "G = tsp_problem.graph\n",
    "\n",
    "# Since in this example we keep the graph small, is a good thing to draw it, so we can verify the solution also graphically\n",
    "adj_matrix = nx.to_numpy_array(G)\n",
    "print(\"distance\\n\", adj_matrix)\n",
    "\n",
    "\n",
    "# Define a list of base colors (for initial nodes)\n",
    "base_colors = [\"red\", \"blue\", \"green\", \"orange\", \"purple\", \"cyan\", \"magenta\", \"yellow\"]\n",
    "\n",
    "# If n exceeds the length of the base_colors list, generate random colors\n",
    "if n > len(base_colors):\n",
    "    # Generate random colors for remaining nodes\n",
    "    additional_colors = [f\"#{random.randint(0, 0xFFFFFF):06x}\" for _ in range(n - len(base_colors))]\n",
    "    colors = base_colors + additional_colors\n",
    "else:\n",
    "    colors = base_colors[:n]\n",
    "\n",
    "pos = nx.spring_layout(G)\n",
    "\n",
    "fig, ax = plt.subplots(1, figsize=(7, 5))\n",
    "draw_graph(tsp_problem.graph, colors, pos)\n"
   ]
  },
  {
   "cell_type": "markdown",
   "id": "435d32f7c3fe0fa6",
   "metadata": {
    "collapsed": false
   },
   "source": [
    "### Conversion to QUBO and Ising Model\n",
    "\n",
    "This is probably the most important section of the example. Here the TSP problem representation is natively converted into a QUBO formulation by usign the qiskit_optimization library. Note that this is done transparently and without the need to implement custom code. Another crucial step performed automatically by the Qiskit framework is the conversion to the Ising Model. This conversion, as stated in the intro, is very useful to get a problem definition that is expressed in terms of quantum related concepts. Without it, we should rethink a whole new problem definition and information encoding strategies. By leveraging the powerfulness of the Ising model, we can not only map the TSP into a quantum circuit automatically, but we can do that also for many other combinatorial optimization problems!  "
   ]
  },
  {
   "cell_type": "code",
   "execution_count": null,
   "id": "f5a39350-7797-4fce-b6b4-66a0d69ef114",
   "metadata": {
    "ExecuteTime": {
     "end_time": "2024-12-09T11:20:29.484820Z",
     "start_time": "2024-12-09T11:20:29.410471Z"
    },
    "executionInfo": {
     "elapsed": 535,
     "status": "ok",
     "timestamp": 1703357594496,
     "user": {
      "displayName": "valeria prevete",
      "userId": "11323486858887833035"
     },
     "user_tz": -60
    },
    "id": "f5a39350-7797-4fce-b6b4-66a0d69ef114",
    "tags": []
   },
   "outputs": [],
   "source": [
    "from qiskit_optimization.converters import QuadraticProgramToQubo\n",
    "\n",
    "\n",
    "qp = tsp_problem.to_quadratic_program()\n",
    "qp2qubo = QuadraticProgramToQubo()\n",
    "qubo = qp2qubo.convert(qp)\n",
    "\n",
    "# Converts QUBO into an Ising model and extracts the Hamiltonian Observable \n",
    "ising_hamiltonian, offset = qubo.to_ising()\n"
   ]
  },
  {
   "cell_type": "markdown",
   "id": "83bb446f823cc4fa",
   "metadata": {
    "collapsed": false
   },
   "source": [
    "### Solving te problem with a classical solver for later comparison"
   ]
  },
  {
   "cell_type": "code",
   "execution_count": null,
   "id": "61f07f3f-69de-435b-b5b4-24458980a413",
   "metadata": {
    "ExecuteTime": {
     "end_time": "2024-12-09T11:20:30.459779Z",
     "start_time": "2024-12-09T11:20:29.486830Z"
    },
    "colab": {
     "base_uri": "https://localhost:8080/"
    },
    "executionInfo": {
     "elapsed": 229,
     "status": "ok",
     "timestamp": 1703357596014,
     "user": {
      "displayName": "valeria prevete",
      "userId": "11323486858887833035"
     },
     "user_tz": -60
    },
    "id": "61f07f3f-69de-435b-b5b4-24458980a413",
    "outputId": "25a6a0b1-d3ef-4ecd-bd1a-a0a05ccab350",
    "tags": []
   },
   "outputs": [],
   "source": [
    "from qiskit_algorithms import NumPyMinimumEigensolver\n",
    "\n",
    "# Here we solve the problem with a classical solver to have an exact solution to compare with the VQE results \n",
    "\n",
    "ee = NumPyMinimumEigensolver()\n",
    "result = ee.compute_minimum_eigenvalue(ising_hamiltonian)\n",
    "\n",
    "print(\"energy:\", result.eigenvalue.real)\n",
    "print(\"tsp objective:\", result.eigenvalue.real + offset)\n",
    "x = tsp_problem.sample_most_likely(result.eigenstate)\n",
    "print(\"feasible:\", qubo.is_feasible(x))\n",
    "z= tsp_problem.interpret(x)\n",
    "print(\"solution:\", z)\n",
    "print(\"solution objective:\", tsp_problem.tsp_value(z, adj_matrix))\n"
   ]
  },
  {
   "cell_type": "markdown",
   "id": "45b2a925111efba4",
   "metadata": {
    "collapsed": false
   },
   "source": [
    "### Ansatz definition\n",
    "\n",
    "If QUBO/Ising mapping was the most important part of the example, the Ansatz definition follows it right after.\n",
    "\n",
    "Ansatz is a german word to say tentative, or approach, and it is used in this context because it actually represents all the possible solutions of the TSP problem, in a parametric quantum circuit. For the TSP there are many articles in literature that define possible ansatz, the one that follows is one of the results of a doctoral thesis in quantum computation.\n",
    "\n",
    "##### Problem-Specific Parametric Quantum Circuit (PQC)\n",
    "\n",
    "In this [work](https://arxiv.org/pdf/2006.05643) is introduced the general concept of the Problem-Specific Parametric Quantum Circuit (PQC).\n",
    "\n",
    "After mapping each binary variable $x_i$ to the qubit $q_i$, our focus shifts to the constraints of an optimization problem. These constraints eﬀectively limit the set of feasible solutions for the optimization problem: by leveraging these constraints, we dynamically construct a problem-specific PQC that reflects the optimization problem’s constraints.\n",
    "\n",
    "This strategic approach allows us to restrict the unitary transformation provided by the problem-specific PQC while considering the defined constraints. Consequently, we can eﬀectively reduce the set of basis states in the output state vector of the problem-specific PQC, significantly shrinking the search space.\n",
    "\n"
   ]
  },
  {
   "cell_type": "code",
   "execution_count": null,
   "id": "6a03a58f-d780-4178-bd60-70a07123ff10",
   "metadata": {
    "ExecuteTime": {
     "end_time": "2024-12-09T11:20:30.477372Z",
     "start_time": "2024-12-09T11:20:30.460787Z"
    },
    "executionInfo": {
     "elapsed": 248,
     "status": "ok",
     "timestamp": 1703357599354,
     "user": {
      "displayName": "valeria prevete",
      "userId": "11323486858887833035"
     },
     "user_tz": -60
    },
    "id": "6a03a58f-d780-4178-bd60-70a07123ff10",
    "tags": []
   },
   "outputs": [],
   "source": [
    "from qiskit.circuit import QuantumCircuit, ParameterVector\n",
    "\n",
    "# Initialization of the base Ansatz circuit\n",
    "def base_circuit(QC, n, theta):\n",
    "    theta1 = ParameterVector('theta2', 1)\n",
    "    QC.x(0)\n",
    "    QC.ry(theta[1], 1)\n",
    "    QC.cz(0, 1)\n",
    "    QC.ry(-theta[1], 1)\n",
    "    QC.cx(1, 0)\n",
    "    QC.cx(1, n)\n",
    "    QC.cx(0, n + 1) \n",
    "    \n",
    "# y axis rotation and controlled gates to encode all possible solutions of the problem in the Ansatz circuit\n",
    "def W_circuit(QC, n, q1n, theta):\n",
    "    QC.x(q1n)\n",
    "    for j in range(q1n + 1, q1n + n, 1):\n",
    "        QC.ry(theta[j - 1], j)\n",
    "        QC.cz(j - 1, j)\n",
    "        QC.ry(-theta[j - 1], j)\n",
    "    for j in range(q1n + 1, q1n + n, 1):\n",
    "        QC.cx(j, j - 1)\n",
    "\n",
    "num_qubits = n ** 2\n",
    "qc = QuantumCircuit(num_qubits)\n",
    "phi = ParameterVector('phi', num_qubits)\n",
    "\n",
    "# The following lines define a custom Ansatz for the TSP using the above base_circuit and W_circuit \n",
    "base_circuit(qc, n, phi)\n",
    "\n",
    "for i in range(3, n + 1, 1):\n",
    "    W_circuit(qc, i, n * (i - 1), phi)\n",
    "for k in range(3, n + 1, 1):\n",
    "    for v in range(1, k, 1):\n",
    "        for p in range(1, k, 1):\n",
    "            qc.cswap(n * (k - 1) + v - 1, n * (p - 1) + n - (n - k) - 1, n * (p - 1) + v - 1)\n",
    "qc.measure_all()\n",
    "\n",
    "ansatz = qc\n"
   ]
  },
  {
   "cell_type": "markdown",
   "id": "1e6ef22f0c8eed67",
   "metadata": {
    "collapsed": false
   },
   "source": [
    "### Now that we have all the ingredients for our recipe, let us cook it using quantum computation\n",
    "\n",
    "First, let us define the Qiskit backend. For the sake of clarity, we will use a noiseless simulator this time. This way, we can verify that the results are the ones expected and thus prove that the formulation above is correct. "
   ]
  },
  {
   "cell_type": "code",
   "execution_count": null,
   "id": "b314811497d2556e",
   "metadata": {
    "ExecuteTime": {
     "end_time": "2024-12-09T11:20:32.560525Z",
     "start_time": "2024-12-09T11:20:32.557306Z"
    },
    "collapsed": false
   },
   "outputs": [],
   "source": [
    "from qiskit_ibm_runtime import QiskitRuntimeService\n",
    "\n",
    "# Select the platform: IBM Quantum (quantum.ibm.com) or IBM Cloud (quantum.cloud.ibm.com)\n",
    "channel = 'ibm_cloud' #ibm_cloud, #ibn_quantum\n",
    "\n",
    "if channel == 'ibm_quantum':\n",
    "  service = QiskitRuntimeService(\n",
    "    channel = channel,\n",
    "    # IBM Quantum token\n",
    "    token = '',\n",
    "  )\n",
    "\n",
    "elif channel == 'ibm_cloud':\n",
    "  service = QiskitRuntimeService(\n",
    "    channel = channel,\n",
    "    # IBM Cloud API key\n",
    "    token = '',\n",
    "    # IBM Cloud CRN\n",
    "    instance = ''\n",
    "  )"
   ]
  },
  {
   "cell_type": "code",
   "execution_count": null,
   "id": "7209791b",
   "metadata": {},
   "outputs": [],
   "source": [
    "# List all backend names\n",
    "backends = service.backends()\n",
    "print([backend.name for backend in backends])"
   ]
  },
  {
   "cell_type": "code",
   "execution_count": null,
   "id": "510b098b",
   "metadata": {},
   "outputs": [],
   "source": [
    "from qiskit_aer import AerSimulator\n",
    "\n",
    "# Run type configuration\n",
    "run_target = 'simulator' #simulator, #least_busy, #any hw printed above\n",
    "\n",
    "if run_target == 'simulator':\n",
    "    backend = AerSimulator()\n",
    "\n",
    "elif run_target == 'least_busy':\n",
    "    backend = service.least_busy(operational=True, simulator=False)\n",
    "\n",
    "else:\n",
    "    backend = service.backend('ibm_sherbrooke')\n",
    "\n",
    "print(\"Selected channel: \"+channel)\n",
    "print(\"Selected backend: \"+backend.name)\n",
    "\n",
    "if ((channel == 'ibm_quantum') and (run_target != 'simulator')):\n",
    "    print (\"-- WARNING: This run may consume several minutes of your Open plan\")\n",
    "elif ((channel == 'ibm_cloud') and (run_target != 'simulator')):\n",
    "    print (\"-- WARNING: This run may consume several credits of your Paygo plan: ~1.6$/second\")\n",
    "elif (run_target == 'simulator'):\n",
    "    print (\"-- This run will be a quick simulation using Qiskit Aer\")\n"
   ]
  },
  {
   "cell_type": "markdown",
   "id": "3e095187576dad54",
   "metadata": {
    "collapsed": false
   },
   "source": [
    "Now we transpile the ansatz circuit in order to make it executable in an optimized way on our backend. Note how easy is to perform this operation with the new version of Qiskit: the only thing needed is a backend and a circuit definition! With these two, we can leverage the qiskit.transpiler library to optimize our circuit automatically."
   ]
  },
  {
   "cell_type": "code",
   "execution_count": null,
   "id": "7daa8244b498e909",
   "metadata": {
    "ExecuteTime": {
     "end_time": "2024-12-09T11:20:32.557306Z",
     "start_time": "2024-12-09T11:20:30.945312Z"
    },
    "collapsed": false
   },
   "outputs": [],
   "source": [
    "from qiskit.transpiler.preset_passmanagers import generate_preset_pass_manager\n",
    "from qiskit import transpile\n",
    "\n",
    "if(backend == 'simulator'):\n",
    "    pm = generate_preset_pass_manager(backend=backend, optimization_level=1)\n",
    "    isa_ansatz = pm.run(ansatz)\n",
    "else:\n",
    "    isa_ansatz = transpile(ansatz, backend=backend)\n",
    "\n",
    "\n",
    "# Ansatz drawing\n",
    "isa_ansatz.decompose().draw(\"mpl\", scale=0.8, plot_barriers=False)\n"
   ]
  },
  {
   "cell_type": "markdown",
   "id": "74d8c7974fcf04d5",
   "metadata": {
    "collapsed": false
   },
   "source": [
    "####  The resolution of QUBO\n",
    "\n",
    "To solve the QUBO problem, we use a hybrid classical/quantum approach: the ansatz and the Hamiltonian observable are evaluated with the quantum computer, while the parameters space used to evaluate the ansatz (which we will use later to determine the lowest energy of the system that translates directly into the shortest path of our salesman) is explored through a classical algorithm. This allows to leverage the best capabilities of each technology: classical computer to perform repetitive small tasks and quantum computer for hard one-time calculations.   "
   ]
  },
  {
   "cell_type": "code",
   "execution_count": null,
   "id": "4aaf4a6d5afbd152",
   "metadata": {
    "ExecuteTime": {
     "end_time": "2024-12-09T11:20:32.567767Z",
     "start_time": "2024-12-09T11:20:32.561530Z"
    },
    "collapsed": false
   },
   "outputs": [],
   "source": [
    "# Define cost function\n",
    "cost_history_dict = {\n",
    "    \"prev_vector\": None,\n",
    "    \"iters\": 0,\n",
    "    \"cost_history\": [],\n",
    "   }\n",
    "    \n",
    "def cost_func(params, ansatz, hamiltonian, estimator):\n",
    "    \"\"\"Return estimate of energy from estimator\n",
    "\n",
    "    Parameters:\n",
    "        params (ndarray): Array of ansatz parameters\n",
    "        ansatz (QuantumCircuit): Parameterized ansatz circuit\n",
    "        hamiltonian (SparsePauliOp): Operator representation of Hamiltonian\n",
    "        estimator (EstimatorV2): Estimator primitive instance\n",
    "        cost_history_dict: Dictionary for storing intermediate results\n",
    "\n",
    "    Returns:\n",
    "        float: Energy estimate\n",
    "    \"\"\"\n",
    "   # Here you can see the code that evaluates the ansatz with a specific set of parameters and then measures the observable hamiltonian.\n",
    "    pub = (ansatz, [hamiltonian], [params])\n",
    "    partial_result = estimator.run(pubs=[pub]).result()\n",
    "    energy = partial_result[0].data.evs[0]\n",
    "\n",
    "    cost_history_dict[\"iters\"] += 1\n",
    "    cost_history_dict[\"prev_vector\"] = params\n",
    "    cost_history_dict[\"cost_history\"].append(energy)\n",
    "    print(f\"Iters. done: {cost_history_dict['iters']} [Current cost: {energy}]\")\n",
    "\n",
    "    return energy"
   ]
  },
  {
   "cell_type": "markdown",
   "id": "a8f2b5fb56c845f9",
   "metadata": {
    "collapsed": false
   },
   "source": [
    "To implement this hybrid/quantum approach we use scipy library, which exposes convenient features to map combinatorial optimization problems. "
   ]
  },
  {
   "cell_type": "code",
   "execution_count": null,
   "id": "7052b6c2ce74c8f7",
   "metadata": {
    "ExecuteTime": {
     "end_time": "2024-12-09T11:20:43.544658Z",
     "start_time": "2024-12-09T11:20:32.568775Z"
    },
    "collapsed": false
   },
   "outputs": [],
   "source": [
    "from qiskit_algorithms.utils import validate_initial_point\n",
    "from qiskit_ibm_runtime import Session\n",
    "from qiskit_ibm_runtime import EstimatorV2 as Estimator\n",
    "from scipy.optimize import minimize\n",
    "\n",
    "\n",
    "num_params = ansatz.num_parameters\n",
    "x0 = validate_initial_point(None, isa_ansatz)\n",
    "hamiltonian_isa = ising_hamiltonian.apply_layout(isa_ansatz.layout)\n",
    "\n",
    "\n",
    "\n",
    "with Session(backend=backend) as session:\n",
    "    \n",
    "    estimator = Estimator(session=session)\n",
    "    estimator.options.default_shots = 3000\n",
    "    \n",
    "    res = minimize(\n",
    "        cost_func,\n",
    "        x0,\n",
    "        args=(isa_ansatz, hamiltonian_isa, estimator),\n",
    "        method=\"COBYLA\",\n",
    "        tol=1e-7,\n",
    "        options={'maxiter': 200}\n",
    "    )\n",
    "    session.close()\n"
   ]
  },
  {
   "cell_type": "markdown",
   "id": "b57c63c4742567fe",
   "metadata": {
    "collapsed": false
   },
   "source": [
    "Finally, we extract the results by evaluating the ansatz with the parameters that minimize the Hamiltonian of the system with a Sampler. This will give us the solution to be interpreted natively by the TSP object and in the end we compare the results with the classical ones. "
   ]
  },
  {
   "cell_type": "code",
   "execution_count": null,
   "id": "7a104f6caead99fd",
   "metadata": {
    "ExecuteTime": {
     "end_time": "2024-12-09T11:20:43.726793Z",
     "start_time": "2024-12-09T11:20:43.545663Z"
    },
    "collapsed": false
   },
   "outputs": [],
   "source": [
    "from qiskit_ibm_runtime import SamplerV2 as Sampler\n",
    "\n",
    "print(\"Results of the optimization -\" + str(res))\n",
    "\n",
    "with Session(backend=backend) as session:\n",
    "    sampler = Sampler(session=session)\n",
    "\n",
    "    pub1 = (isa_ansatz, res.x)    \n",
    "    final_state = sampler.run(pubs=[pub1]).result()\n",
    "    quantum_solution = tsp_problem.interpret(tsp_problem.sample_most_likely(final_state._pub_results[0].data.meas.get_counts()))\n",
    "    print(\"Solution found with VQE: \" + str(quantum_solution) + \" with cost: \" + str(tsp_problem.tsp_value(quantum_solution, adj_matrix)))\n",
    "    print(\"Solution found with classical solver: \" + str(z) + \" with cost: \" + str(tsp_problem.tsp_value(z, adj_matrix)))\n",
    "\n",
    "    # Cities and route lengths\n",
    "    fig1 = plt.figure(figsize=(5,4))\n",
    "    draw_graph(tsp_problem.graph, colors, pos)\n",
    "\n",
    "    # TSP classical solution\n",
    "    fig2 = plt.figure(figsize=(5,4))\n",
    "    draw_tsp_solution(tsp_problem.graph, z, colors, pos, \"Classical\")\n",
    "\n",
    "    # TSP quantum solution\n",
    "    fig3 = plt.figure(figsize=(5,4))\n",
    "    draw_tsp_solution(tsp_problem.graph, quantum_solution, colors, pos, \"Quantum\")\n",
    "    "
   ]
  },
  {
   "cell_type": "code",
   "execution_count": null,
   "id": "6f43f37e22f4537d",
   "metadata": {
    "ExecuteTime": {
     "end_time": "2024-12-09T11:20:43.811614Z",
     "start_time": "2024-12-09T11:20:43.727812Z"
    },
    "collapsed": false
   },
   "outputs": [],
   "source": [
    "all(cost_history_dict[\"prev_vector\"] == res.x)\n",
    "\n",
    "fig, ax = plt.subplots()\n",
    "ax.plot(range(cost_history_dict[\"iters\"]), cost_history_dict[\"cost_history\"])\n",
    "ax.set_xlabel(\"Iterations\")\n",
    "ax.set_ylabel(\"Cost\")\n",
    "plt.draw()\n",
    "\n",
    "p = tsp_problem.tsp_value(quantum_solution, adj_matrix) # total route weight\n",
    "print(\"solution objective:\", p)"
   ]
  }
 ],
 "metadata": {
  "colab": {
   "provenance": []
  },
  "kernelspec": {
   "display_name": "qiskit_1",
   "language": "python",
   "name": "python3"
  },
  "language_info": {
   "codemirror_mode": {
    "name": "ipython",
    "version": 3
   },
   "file_extension": ".py",
   "mimetype": "text/x-python",
   "name": "python",
   "nbconvert_exporter": "python",
   "pygments_lexer": "ipython3",
   "version": "3.10.8"
  },
  "widgets": {
   "application/vnd.jupyter.widget-state+json": {
    "state": {
     "04f4dff38f9f41679350e9968d15e4ed": {
      "model_module": "@jupyter-widgets/controls",
      "model_module_version": "2.0.0",
      "model_name": "HTMLModel",
      "state": {
       "layout": "IPY_MODEL_da2ca4444c6142fbbbc7fb11c0e1b14d",
       "style": "IPY_MODEL_2c5d532668d84f7da2e2062ee1eb41f3",
       "value": "<h5>Job ID</h5>"
      }
     },
     "05e39ac88c19416db119650989a93af9": {
      "model_module": "@jupyter-widgets/controls",
      "model_module_version": "2.0.0",
      "model_name": "HBoxModel",
      "state": {
       "children": [
        "IPY_MODEL_04f4dff38f9f41679350e9968d15e4ed",
        "IPY_MODEL_2868b1d61fa34c209732d7f51f39f202",
        "IPY_MODEL_7ed7b97cf2bf45e3ac52d9bd2109470d",
        "IPY_MODEL_cd4ecac887884263815c17457380c553",
        "IPY_MODEL_a8261fa2cc2549f2a84358544abcb64c"
       ],
       "layout": "IPY_MODEL_5df3c486899945f8bda15dd4e0fa6962"
      }
     },
     "0f61aaa7d4f242d3ae4c7c14d81104c2": {
      "model_module": "@jupyter-widgets/base",
      "model_module_version": "2.0.0",
      "model_name": "LayoutModel",
      "state": {
       "grid_template_areas": "\n                                       \". . . . right \"\n                                        ",
       "grid_template_columns": "20% 20% 20% 20% 20%",
       "width": "100%"
      }
     },
     "14233a6dd45e43e8a6a6b76473653c75": {
      "model_module": "@jupyter-widgets/base",
      "model_module_version": "2.0.0",
      "model_name": "LayoutModel",
      "state": {
       "margin": "0px 0px 10px 0px"
      }
     },
     "2868b1d61fa34c209732d7f51f39f202": {
      "model_module": "@jupyter-widgets/controls",
      "model_module_version": "2.0.0",
      "model_name": "HTMLModel",
      "state": {
       "layout": "IPY_MODEL_d04c61faf6a940efb83393fbe4186d80",
       "style": "IPY_MODEL_b853df6a86044c8ca11b680b3d15ac05",
       "value": "<h5>Backend</h5>"
      }
     },
     "2c5d532668d84f7da2e2062ee1eb41f3": {
      "model_module": "@jupyter-widgets/controls",
      "model_module_version": "2.0.0",
      "model_name": "HTMLStyleModel",
      "state": {
       "description_width": "",
       "font_size": null,
       "text_color": null
      }
     },
     "3a3add8268a546b3b5facf444d57f9d7": {
      "model_module": "@jupyter-widgets/base",
      "model_module_version": "2.0.0",
      "model_name": "LayoutModel",
      "state": {}
     },
     "3c4c67cc629042ca8eacb6fbf6eb784e": {
      "model_module": "@jupyter-widgets/controls",
      "model_module_version": "2.0.0",
      "model_name": "HTMLModel",
      "state": {
       "layout": "IPY_MODEL_14233a6dd45e43e8a6a6b76473653c75",
       "style": "IPY_MODEL_e9eb8982d0c446c59dc4af6ce31872b4",
       "value": "<p style='font-family: IBM Plex Sans, Arial, Helvetica, sans-serif; font-size: 20px; font-weight: medium;'>Circuit Properties</p>"
      }
     },
     "4bbc4fa9d27c446393d0d667435c0a7a": {
      "model_module": "@jupyter-widgets/base",
      "model_module_version": "2.0.0",
      "model_name": "LayoutModel",
      "state": {
       "grid_area": "right",
       "padding": "0px 0px 0px 0px",
       "width": "70px"
      }
     },
     "4c2d9b973d5541b29941e698dd75be75": {
      "model_module": "@jupyter-widgets/base",
      "model_module_version": "2.0.0",
      "model_name": "LayoutModel",
      "state": {
       "width": "95px"
      }
     },
     "5df3c486899945f8bda15dd4e0fa6962": {
      "model_module": "@jupyter-widgets/base",
      "model_module_version": "2.0.0",
      "model_name": "LayoutModel",
      "state": {
       "margin": "0px 0px 0px 37px",
       "width": "600px"
      }
     },
     "7ed7b97cf2bf45e3ac52d9bd2109470d": {
      "model_module": "@jupyter-widgets/controls",
      "model_module_version": "2.0.0",
      "model_name": "HTMLModel",
      "state": {
       "layout": "IPY_MODEL_4c2d9b973d5541b29941e698dd75be75",
       "style": "IPY_MODEL_f9983d91abf3402bb28771a0c1f9f06b",
       "value": "<h5>Status</h5>"
      }
     },
     "971b1fb5c55a4c49b83854ef83cdbe35": {
      "model_module": "@jupyter-widgets/controls",
      "model_module_version": "2.0.0",
      "model_name": "HTMLStyleModel",
      "state": {
       "description_width": "",
       "font_size": null,
       "text_color": null
      }
     },
     "9f56309a545648a7a15bdd3eed61357d": {
      "model_module": "@jupyter-widgets/controls",
      "model_module_version": "2.0.0",
      "model_name": "ButtonModel",
      "state": {
       "button_style": "primary",
       "description": "Clear",
       "layout": "IPY_MODEL_4bbc4fa9d27c446393d0d667435c0a7a",
       "style": "IPY_MODEL_dfff7b74ee6d42faab93a859c068fddd",
       "tooltip": null
      }
     },
     "a8261fa2cc2549f2a84358544abcb64c": {
      "model_module": "@jupyter-widgets/controls",
      "model_module_version": "2.0.0",
      "model_name": "HTMLModel",
      "state": {
       "layout": "IPY_MODEL_3a3add8268a546b3b5facf444d57f9d7",
       "style": "IPY_MODEL_971b1fb5c55a4c49b83854ef83cdbe35",
       "value": "<h5>Message</h5>"
      }
     },
     "b853df6a86044c8ca11b680b3d15ac05": {
      "model_module": "@jupyter-widgets/controls",
      "model_module_version": "2.0.0",
      "model_name": "HTMLStyleModel",
      "state": {
       "description_width": "",
       "font_size": null,
       "text_color": null
      }
     },
     "bd2ed43df1994e04af37c23880fbef33": {
      "model_module": "@jupyter-widgets/base",
      "model_module_version": "2.0.0",
      "model_name": "LayoutModel",
      "state": {
       "width": "70px"
      }
     },
     "cd4ecac887884263815c17457380c553": {
      "model_module": "@jupyter-widgets/controls",
      "model_module_version": "2.0.0",
      "model_name": "HTMLModel",
      "state": {
       "layout": "IPY_MODEL_bd2ed43df1994e04af37c23880fbef33",
       "style": "IPY_MODEL_d6d5e6f58fb8453b9d40b4a653aa49cb",
       "value": "<h5>Queue</h5>"
      }
     },
     "d04c61faf6a940efb83393fbe4186d80": {
      "model_module": "@jupyter-widgets/base",
      "model_module_version": "2.0.0",
      "model_name": "LayoutModel",
      "state": {
       "width": "145px"
      }
     },
     "d3c3e29d8b2040848b032478f036a8f9": {
      "model_module": "@jupyter-widgets/controls",
      "model_module_version": "2.0.0",
      "model_name": "GridBoxModel",
      "state": {
       "children": [
        "IPY_MODEL_9f56309a545648a7a15bdd3eed61357d"
       ],
       "layout": "IPY_MODEL_0f61aaa7d4f242d3ae4c7c14d81104c2"
      }
     },
     "d6d5e6f58fb8453b9d40b4a653aa49cb": {
      "model_module": "@jupyter-widgets/controls",
      "model_module_version": "2.0.0",
      "model_name": "HTMLStyleModel",
      "state": {
       "description_width": "",
       "font_size": null,
       "text_color": null
      }
     },
     "da2ca4444c6142fbbbc7fb11c0e1b14d": {
      "model_module": "@jupyter-widgets/base",
      "model_module_version": "2.0.0",
      "model_name": "LayoutModel",
      "state": {
       "width": "190px"
      }
     },
     "dfff7b74ee6d42faab93a859c068fddd": {
      "model_module": "@jupyter-widgets/controls",
      "model_module_version": "2.0.0",
      "model_name": "ButtonStyleModel",
      "state": {
       "font_family": null,
       "font_size": null,
       "font_style": null,
       "font_variant": null,
       "font_weight": null,
       "text_color": null,
       "text_decoration": null
      }
     },
     "e9eb8982d0c446c59dc4af6ce31872b4": {
      "model_module": "@jupyter-widgets/controls",
      "model_module_version": "2.0.0",
      "model_name": "HTMLStyleModel",
      "state": {
       "description_width": "",
       "font_size": null,
       "text_color": null
      }
     },
     "f9983d91abf3402bb28771a0c1f9f06b": {
      "model_module": "@jupyter-widgets/controls",
      "model_module_version": "2.0.0",
      "model_name": "HTMLStyleModel",
      "state": {
       "description_width": "",
       "font_size": null,
       "text_color": null
      }
     }
    },
    "version_major": 2,
    "version_minor": 0
   }
  }
 },
 "nbformat": 4,
 "nbformat_minor": 5
}
