{
 "cells": [
  {
   "cell_type": "markdown",
   "id": "46aa38a1",
   "metadata": {},
   "source": [
    "# Introduction\n",
    "\n",
    "This notebook focuses on the application of the [Variational Quantum Eigensolver](https://learning.quantum.ibm.com/tutorial/variational-quantum-eigensolver) (VQE) algorithm to compute the Ground State energy of a physical system described by the Transvrese-field Ising model.\n",
    "\n",
    "The transverse-field Ising model is a mathematical model in statistical mechanics that features a lattice with nearest neighbour interactions determined by the alignment or anti-alignment of spin projections along the $z$ axis, as well as an external magnetic field perpendicular to the $z$ axis (without loss of generality, along the $x$ axis) which creates an energetic bias for one x-axis spin direction over the other. \n",
    "\n",
    "It was first proposed by physicist Ernst Ising in 1925 and has become a fundamental model for studying phase transitions and critical phenomena, especially in the context of magnetism."
   ]
  },
  {
   "cell_type": "markdown",
   "id": "c06bfcd7",
   "metadata": {},
   "source": [
    "### Install dependencies\n",
    "\n",
    "Note: this notebook is compatible with:\n",
    "\n",
    "- qiskit                    2.0.0\n",
    "- qiskit-aer                0.17.0\n",
    "- qiskit-algorithms         0.3.1\n",
    "- qiskit-ibm-provider       0.11.0\n",
    "- qiskit-ibm-runtime        0.37.0\n",
    "- qiskit-machine-learning   0.8.2\n",
    "- qiskit-optimization       0.6.1"
   ]
  },
  {
   "cell_type": "code",
   "execution_count": null,
   "id": "cf1abd82",
   "metadata": {},
   "outputs": [],
   "source": [
    "# Install packages in the current Jupyter kernel\n",
    "\n",
    "import sys\n",
    "!{sys.executable} -m pip install qiskit==2.0.0\n",
    "!{sys.executable} -m pip install qiskit-aer==0.17.0\n",
    "!{sys.executable} -m pip install qiskit-algorithms==0.3.1\n",
    "!{sys.executable} -m pip install qiskit-ibm-provider==0.11.0\n",
    "!{sys.executable} -m pip install qiskit-ibm-runtime==0.37.0\n",
    "!{sys.executable} -m pip install qiskit-machine-learning==0.8.2\n",
    "!{sys.executable} -m pip install qiskit-optimization==0.6.1"
   ]
  },
  {
   "cell_type": "code",
   "execution_count": null,
   "id": "19d4cf83",
   "metadata": {},
   "outputs": [],
   "source": [
    "# Basic imports (all others will be imported when needed for teaching purposes)\n",
    "\n",
    "import numpy as np\n",
    "import matplotlib.pyplot as plt\n",
    "\n",
    "import qiskit.version\n",
    "print(\"You are using Qiskit \"+qiskit.version.get_version_info())\n"
   ]
  },
  {
   "cell_type": "markdown",
   "id": "ec5d54a4",
   "metadata": {},
   "source": [
    "### Connect and configure quantum services"
   ]
  },
  {
   "cell_type": "code",
   "execution_count": null,
   "id": "e860ea98",
   "metadata": {},
   "outputs": [],
   "source": [
    "from qiskit_ibm_runtime import QiskitRuntimeService\n",
    "\n",
    "# Select the platform: IBM Quantum (quantum.ibm.com) or IBM Cloud (quantum.cloud.ibm.com)\n",
    "channel = 'ibm_cloud' #ibm_cloud, #ibn_quantum\n",
    "\n",
    "if channel == 'ibm_quantum':\n",
    "  service = QiskitRuntimeService(\n",
    "    channel = channel,\n",
    "    # IBM Quantum token\n",
    "    token = '',\n",
    "  )\n",
    "\n",
    "elif channel == 'ibm_cloud':\n",
    "  service = QiskitRuntimeService(\n",
    "    channel = channel,\n",
    "    # IBM Cloud API key\n",
    "    token = '',\n",
    "    # IBM Cloud CRN\n",
    "    instance = ''\n",
    "  )"
   ]
  },
  {
   "cell_type": "code",
   "execution_count": null,
   "id": "255efddb",
   "metadata": {},
   "outputs": [],
   "source": [
    "# List all backend names\n",
    "backends = service.backends()\n",
    "print([backend.name for backend in backends])"
   ]
  },
  {
   "cell_type": "code",
   "execution_count": null,
   "id": "a57c50ac",
   "metadata": {},
   "outputs": [],
   "source": [
    "from qiskit_aer import AerSimulator\n",
    "\n",
    "# Run type configuration\n",
    "run_target = 'simulator' #simulator, #least_busy, #any hw printed above\n",
    "\n",
    "if run_target == 'simulator':\n",
    "    backend = AerSimulator()\n",
    "\n",
    "elif run_target == 'least_busy':\n",
    "    backend = service.least_busy(operational=True, simulator=False)\n",
    "\n",
    "else:\n",
    "    backend = service.backend('ibm_sherbrooke')\n",
    "\n",
    "print(\"Selected channel: \"+channel)\n",
    "print(\"Selected backend: \"+backend.name)\n",
    "\n",
    "if ((channel == 'ibm_quantum') and (run_target != 'simulator')):\n",
    "    print (\"-- WARNING: This run may consume several minutes of your Open plan\")\n",
    "elif ((channel == 'ibm_cloud') and (run_target != 'simulator')):\n",
    "    print (\"-- WARNING: This run may consume several credits of your Paygo plan: ~1.6$/second\")\n",
    "elif (run_target == 'simulator'):\n",
    "    print (\"-- This run will be a quick simulation using Qiskit Aer\")\n"
   ]
  },
  {
   "cell_type": "markdown",
   "id": "9e151fa0",
   "metadata": {},
   "source": [
    "### Problem definition\n",
    "\n",
    "In the Transverse-field Ising model, each site (or lattice point) can have a spin that can be in one of two states: either +1 (spin-up) or -1 (spin-down). Spins are typically arranged on a regular lattice, such as a 1D chain, 2D square grid, or 3D cubic lattice.\n",
    "\n",
    "The energy of the system is described by the Hamiltonian, which accounts for the interaction between neighboring spins and an external magnetic field. The Hamiltonian is given by:\n",
    "\n",
    "$H = -J \\sum_{<i,j>}{S_i S_j} + b\\sum_i S_i$\n",
    "\n",
    "\n",
    "Where:\n",
    "\n",
    "- $J$ is the interaction strength between neighboring spins. $J > 0$ corresponds to a ferromagnetic interaction, while $J < 0$ corresponds to an antiferromagnetic interaction\n",
    "- $<i,j>$ are the nearest neighbors\n",
    "- $S_i$ is the spin at site $i$\n",
    "- $b$ is the relative strength of the external field compared to the nearest neighbour interaction of the spins\n",
    "\n",
    "\n",
    "For a simple 2-spins system, the Hamiltonian simplifies to:\n",
    "\n",
    "$H = -J S_1 S_2 + b(S_1 + S_2)$\n",
    "\n",
    "In this notebook, the external magnetic field is considered to be transverse (e.g. on the X-axis)."
   ]
  },
  {
   "cell_type": "code",
   "execution_count": null,
   "id": "a77eef23",
   "metadata": {},
   "outputs": [],
   "source": [
    "from qiskit.quantum_info import SparsePauliOp\n",
    "\n",
    "# Set up the different observables for the Ising Hamiltonian\n",
    "observables_labels = [\"ZZ\", \"IX\", \"XI\"]\n",
    "observables = [SparsePauliOp(label) for label in observables_labels]\n",
    "\n",
    "# Set up Hamiltonian parameters\n",
    "J = 1\n",
    "num_qubits = 2\n",
    "b_list = np.linspace(0, 4, 10)\n",
    "\n",
    "def Hamiltonian(J, b, observables):\n",
    "    H = -J*(observables[0]) + b*(observables[1] + observables[2])\n",
    "    return H"
   ]
  },
  {
   "cell_type": "markdown",
   "id": "1a097cd3",
   "metadata": {},
   "source": [
    "### Classical solution for benchmarking"
   ]
  },
  {
   "cell_type": "code",
   "execution_count": null,
   "id": "d50ddeb3",
   "metadata": {},
   "outputs": [],
   "source": [
    "from numpy import linalg\n",
    "\n",
    "E_l = []\n",
    "P_l = []\n",
    "energy_levels = []\n",
    "\n",
    "for b in range(len(b_list)):\n",
    "\n",
    "    # Configure the Hamiltonian with Qiskit SparsePauliOp\n",
    "    H = Hamiltonian(J, b, observables)\n",
    "    \n",
    "    # Extract and order eigenvalues (energy)\n",
    "    E_l, P_l = linalg.eig(H.to_matrix())\n",
    "    Es = np.sort(E_l)\n",
    "\n",
    "    energy_levels.append(np.real(Es))"
   ]
  },
  {
   "cell_type": "markdown",
   "id": "f843bfe7",
   "metadata": {},
   "source": [
    "### Quantum approach\n",
    "\n",
    "##### Ansatz creation\n",
    "In this example several ansatz creation techniques are included to understand the differences of these approaches.\n",
    "\n",
    "##### Ansatz transpilation \n",
    "To reduce the total job execution time, Qiskit primitives only accept circuits (ansatz) and observables (Hamiltonian) that conform to the instructions and connectivity supported by the target QPU (referred to as instruction set architecture (ISA) circuits and observables).\n",
    "\n",
    "Schedule a series of qiskit.transpiler  passes to optimize the circuit for a selected backend and make it compatible with the backend's ISA. This can be easily done with a preset pass manager from qiskit.transpiler and its optimization_level parameter."
   ]
  },
  {
   "cell_type": "code",
   "execution_count": null,
   "id": "f2e4ee8f",
   "metadata": {},
   "outputs": [],
   "source": [
    "from qiskit.circuit.library import efficient_su2\n",
    "from qiskit.circuit.library import TwoLocal\n",
    "from qiskit.circuit.library import RealAmplitudes\n",
    "\n",
    "# Ansatz creation\n",
    "ans = \"efficient\"\n",
    "\n",
    "if ans == \"efficient\":\n",
    "    ansatz = efficient_su2(num_qubits, reps=1)\n",
    "elif ans == \"twolocal\":\n",
    "    ansatz = TwoLocal(num_qubits, rotation_blocks=['ry', 'rz'], entanglement_blocks='cx', entanglement='linear', reps=1)\n",
    "elif ans == \"realamplitudes\":\n",
    "    ansatz = RealAmplitudes(num_qubits, entanglement='linear', reps=1)\n",
    "\n",
    "# Ansatz transpilation\n",
    "from qiskit.transpiler.preset_passmanagers import generate_preset_pass_manager\n",
    "from qiskit import transpile\n",
    "\n",
    "if(run_target == 'simulator'):\n",
    "    pm = generate_preset_pass_manager(backend=backend, optimization_level=3)\n",
    "    isa_ansatz = pm.run(ansatz)\n",
    "else:\n",
    "    isa_ansatz = transpile(ansatz, backend=backend)\n",
    "\n",
    "# Ansatz drawing\n",
    "isa_ansatz.decompose().draw(\"mpl\")"
   ]
  },
  {
   "cell_type": "markdown",
   "id": "4c7597e0",
   "metadata": {},
   "source": [
    "##### Cost function creation\n",
    "\n",
    "The cost function returns the estimation of energy performed by the Estimator primitive"
   ]
  },
  {
   "cell_type": "code",
   "execution_count": null,
   "id": "f1a63a9d",
   "metadata": {},
   "outputs": [],
   "source": [
    "# Create cost dict to show optimisation progress\n",
    "cost_history_dict = {\n",
    "    \"prev_vector\": None,\n",
    "    \"iters\": 0,\n",
    "    \"cost_history\": [],\n",
    "   }\n",
    "\n",
    "# Create cost function to be minimized\n",
    "def cost_fn(params, ansatz, hamiltonian, estimator):\n",
    "\n",
    "    \"\"\"Return estimate of energy from estimator\n",
    "\n",
    "    Parameters:\n",
    "        params (ndarray): Array of ansatz parameters\n",
    "        ansatz (QuantumCircuit): Parameterized ansatz circuit\n",
    "        hamiltonian (SparsePauliOp): Operator representation of Hamiltonian\n",
    "        estimator (EstimatorV2): Estimator primitive instance\n",
    "        cost_history_dict: Dictionary for storing intermediate results\n",
    "\n",
    "    Returns:\n",
    "        float: Energy estimate\n",
    "    \"\"\"\n",
    "    # Packaging all needed variables\n",
    "    pub = (ansatz, [hamiltonian], [params])\n",
    "    partial_result = estimator.run(pubs=[pub]).result()\n",
    "    energy = partial_result[0].data.evs[0]\n",
    "\n",
    "    # Update dict to show optimisation progress\n",
    "    cost_history_dict[\"iters\"] += 1\n",
    "    cost_history_dict[\"prev_vector\"] = params\n",
    "    cost_history_dict[\"cost_history\"].append(energy)\n",
    "    print(f\"Iters. done: {cost_history_dict['iters']} [Current cost: {energy}]\")\n",
    "\n",
    "    return energy"
   ]
  },
  {
   "cell_type": "markdown",
   "id": "6ddc31d7",
   "metadata": {},
   "source": [
    "##### Data vatiables reset\n",
    "\n",
    "Warning: use only if needed, it will delete all results.\n",
    "\n",
    "In case of quantum hardware runs, results can be found on quantum.ibm.com or quantum.cloud.ibm.com (depending on the platform chosen)."
   ]
  },
  {
   "cell_type": "code",
   "execution_count": null,
   "id": "faf1caee",
   "metadata": {},
   "outputs": [],
   "source": [
    "# WARNING - Simulated Ground State energy reset\n",
    "ground_state_energies_simulator = []"
   ]
  },
  {
   "cell_type": "code",
   "execution_count": null,
   "id": "0a038896",
   "metadata": {},
   "outputs": [],
   "source": [
    "# WARNING - Hardware computed Ground State energy reset\n",
    "ground_state_energies_hardware = []"
   ]
  },
  {
   "cell_type": "markdown",
   "id": "416d61d9",
   "metadata": {},
   "source": [
    "##### Quantum runs"
   ]
  },
  {
   "cell_type": "code",
   "execution_count": null,
   "id": "1068a0d8",
   "metadata": {},
   "outputs": [],
   "source": [
    "from scipy.optimize import minimize\n",
    "from qiskit_ibm_runtime import Session, EstimatorV2 as Estimator\n",
    "\n",
    "# Session open\n",
    "with Session(backend=backend) as session:\n",
    "\n",
    "    # Initialize Estimator\n",
    "    estimator = Estimator()\n",
    "\n",
    "    # Set shot count and options (optional)\n",
    "    estimator.options.default_shots = 8192\n",
    "    estimator.options.resilience_level = 2 # Max resilience_level for Estimator is 2. Useful only for noisy simulations or real hardware runs\n",
    "\n",
    "    # Loop for each field value\n",
    "    for b in range(len(b_list)):\n",
    "        \n",
    "        # 2 qubits Ising Hamiltonian\n",
    "        H = Hamiltonian(J, b, observables)\n",
    "        H_isa = H.apply_layout(isa_ansatz.layout)\n",
    "        \n",
    "        # Random initial parameters\n",
    "        initial_point = np.random.rand(ansatz.num_parameters) * 2 * np.pi\n",
    "\n",
    "        # Optimization process\n",
    "        res = minimize(\n",
    "            cost_fn,\n",
    "            initial_point,\n",
    "            args=(isa_ansatz, H_isa, estimator),\n",
    "            method=\"COBYLA\",\n",
    "            tol=1e-7,\n",
    "            options={'maxiter': 100}\n",
    "        )\n",
    "\n",
    "        # Results extraction\n",
    "        if run_target == 'simulator':\n",
    "            ground_state_energies_simulator.append(res.fun)\n",
    "        else:\n",
    "            ground_state_energies_hardware.append(res.fun)\n"
   ]
  },
  {
   "cell_type": "markdown",
   "id": "062ce840",
   "metadata": {},
   "source": [
    "#### Plot results"
   ]
  },
  {
   "cell_type": "code",
   "execution_count": null,
   "id": "0c5d5bfb",
   "metadata": {},
   "outputs": [],
   "source": [
    "fig, ax = plt.subplots()\n",
    "ax.set(xlabel='B field', ylabel='Energy', title='2 qubits Ising Hamiltonian Ground State')\n",
    "\n",
    "# Classically computed energy levels\n",
    "ax.plot(b_list, energy_levels, color=\"#c2c2c2\", linewidth=0.5)\n",
    "\n",
    "# Quantum computed Ground State\n",
    "ax.scatter(b_list, ground_state_energies_simulator, marker='o', color='b', label=\"Ground State energy - aer_simulator\")\n",
    "\n",
    "if len(ground_state_energies_hardware) > 0:\n",
    "    ax.scatter(b_list, ground_state_energies_hardware, marker='^', color='g', label=\"Ground State energy - \"+backend.name)\n",
    "\n",
    "ax.legend()\n",
    "plt.show()"
   ]
  },
  {
   "cell_type": "code",
   "execution_count": null,
   "id": "c2ed1fff",
   "metadata": {},
   "outputs": [],
   "source": [
    "# Print optimization process details\n",
    "\n",
    "all(cost_history_dict[\"prev_vector\"] == res.x)\n",
    "\n",
    "fig, ax = plt.subplots()\n",
    "ax.plot(range(cost_history_dict[\"iters\"]), cost_history_dict[\"cost_history\"])\n",
    "ax.set_xlabel(\"Iterations\")\n",
    "ax.set_ylabel(\"Cost\")\n",
    "plt.draw()"
   ]
  },
  {
   "cell_type": "code",
   "execution_count": null,
   "id": "45d9bb0c",
   "metadata": {},
   "outputs": [],
   "source": []
  }
 ],
 "metadata": {
  "kernelspec": {
   "display_name": "qiskit_2",
   "language": "python",
   "name": "python3"
  },
  "language_info": {
   "codemirror_mode": {
    "name": "ipython",
    "version": 3
   },
   "file_extension": ".py",
   "mimetype": "text/x-python",
   "name": "python",
   "nbconvert_exporter": "python",
   "pygments_lexer": "ipython3",
   "version": "3.10.8"
  }
 },
 "nbformat": 4,
 "nbformat_minor": 5
}
