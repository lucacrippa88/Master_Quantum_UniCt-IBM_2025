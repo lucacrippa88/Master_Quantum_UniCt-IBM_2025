{
 "cells": [
  {
   "cell_type": "markdown",
   "id": "46aa38a1",
   "metadata": {},
   "source": [
    "# Introduction\n",
    "\n",
    "This notebook focuses on the application of the [Variational Quantum Eigensolver](https://learning.quantum.ibm.com/tutorial/variational-quantum-eigensolver) (VQE) algorithm to compute the Ground State energy of a physical system described by the Transvrese-field Ising model.\n",
    "\n",
    "The transverse-field Ising model is a mathematical model in statistical mechanics that features a lattice with nearest neighbour interactions determined by the alignment or anti-alignment of spin projections along the $z$ axis, as well as an external magnetic field perpendicular to the $z$ axis (without loss of generality, along the $x$ axis) which creates an energetic bias for one x-axis spin direction over the other. \n",
    "\n",
    "It was first proposed by physicist Ernst Ising in 1925 and has become a fundamental model for studying phase transitions and critical phenomena, especially in the context of magnetism."
   ]
  },
  {
   "cell_type": "markdown",
   "id": "c06bfcd7",
   "metadata": {},
   "source": [
    "### Install dependencies\n",
    "\n",
    "### Install dependencies and check qiskit version \n",
    "\n",
    "First, let us install all the needed dependencies and check that we are using Qiskit 2.0.0 version "
   ]
  },
  {
   "cell_type": "code",
   "execution_count": null,
   "id": "cf1abd82",
   "metadata": {},
   "outputs": [],
   "source": [
    "# Install packages in the current Jupyter kernel\n",
    "\n",
    "import sys\n",
    "!{sys.executable} -m pip install qiskit==2.0.0\n",
    "!{sys.executable} -m pip install qiskit-aer==0.17.0\n",
    "!{sys.executable} -m pip install qiskit-algorithms==0.3.1\n",
    "!{sys.executable} -m pip install qiskit-ibm-provider==0.11.0\n",
    "!{sys.executable} -m pip install qiskit-ibm-runtime==0.37.0\n",
    "!{sys.executable} -m pip install qiskit-machine-learning==0.8.2\n",
    "!{sys.executable} -m pip install qiskit-optimization==0.6.1"
   ]
  },
  {
   "cell_type": "code",
   "execution_count": null,
   "id": "19d4cf83",
   "metadata": {},
   "outputs": [],
   "source": [
    "# Basic imports (all others will be imported when needed for teaching purposes)\n",
    "\n",
    "import numpy as np\n",
    "import matplotlib.pyplot as plt\n",
    "\n",
    "\n",
    "#1. Check Qiskit version and print it ###\n",
    "\n",
    "\n",
    "### --------------------------------- ###\n"
   ]
  },
  {
   "cell_type": "markdown",
   "id": "ec5d54a4",
   "metadata": {},
   "source": [
    "### Connect and configure quantum services"
   ]
  },
  {
   "cell_type": "code",
   "execution_count": null,
   "id": "e860ea98",
   "metadata": {},
   "outputs": [],
   "source": [
    "#2. Add imports\n",
    "from qiskit_ibm_runtime import ###\n",
    "\n",
    "#3. Setup variable named 'channel' ###\n",
    "# Select the platform: IBM Quantum (quantum.ibm.com) or IBM Cloud (quantum.cloud.ibm.com)\n",
    "\n",
    "\n",
    "### ------------------------------ ###\n",
    "\n",
    "\n",
    "#4. Setup connectivity to IBM Quantum computers ###\n",
    "\n",
    "\n",
    "    \n",
    "### ------------------------------------------- ###"
   ]
  },
  {
   "cell_type": "code",
   "execution_count": null,
   "id": "255efddb",
   "metadata": {},
   "outputs": [],
   "source": [
    "#5. List all available backends ###\n",
    "\n",
    "\n",
    "\n",
    "### --------------------------- ###"
   ]
  },
  {
   "cell_type": "code",
   "execution_count": null,
   "id": "a57c50ac",
   "metadata": {},
   "outputs": [],
   "source": [
    "#6. Add imports\n",
    "from qiskit_aer import ###\n",
    "\n",
    "\n",
    "# Run type configuration\n",
    "\n",
    "#7. Add a flag to configure run: #simulator, #least_busy, #any hw printed above\n",
    "\n",
    "\n",
    "\n",
    "### --------------------------------------------------------------------------- ###\n",
    "\n",
    "\n",
    "\n",
    "#8. Check run flag and select backend accordingly ###\n",
    "\n",
    "\n",
    "# Then: \n",
    "# Print selected channel\n",
    "# Print backend name\n",
    "\n",
    "\n",
    "### --------------------------------------------- ###\n",
    "\n",
    "\n",
    "#9. Optional: print considerations considering selected platform and backend ###\n",
    "\n",
    "# Hint: what may interest to an user?\n",
    "\n",
    "\n",
    "### ------------------------------------------------------------------------ ###"
   ]
  },
  {
   "cell_type": "markdown",
   "id": "9e151fa0",
   "metadata": {},
   "source": [
    "### Problem definition\n",
    "\n",
    "In the Transverse-field Ising model, each site (or lattice point) can have a spin that can be in one of two states: either +1 (spin-up) or -1 (spin-down). Spins are typically arranged on a regular lattice, such as a 1D chain, 2D square grid, or 3D cubic lattice.\n",
    "\n",
    "The energy of the system is described by the Hamiltonian, which accounts for the interaction between neighboring spins and an external magnetic field. The Hamiltonian is given by:\n",
    "\n",
    "$H = -J \\sum_{<i,j>}{S_i S_j} + b\\sum_i S_i$\n",
    "\n",
    "\n",
    "Where:\n",
    "\n",
    "- $J$ is the interaction strength between neighboring spins. $J > 0$ corresponds to a ferromagnetic interaction, while $J < 0$ corresponds to an antiferromagnetic interaction\n",
    "- $<i,j>$ are the nearest neighbors\n",
    "- $S_i$ is the spin at site $i$\n",
    "- $b$ is the relative strength of the external field compared to the nearest neighbour interaction of the spins\n",
    "\n",
    "\n",
    "For a simple 2-spins system, the Hamiltonian simplifies to:\n",
    "\n",
    "$H = -J S_1 S_2 + b(S_1 + S_2)$\n",
    "\n",
    "In this notebook, the external magnetic field is considered to be transverse (e.g. on the X-axis)."
   ]
  },
  {
   "cell_type": "code",
   "execution_count": null,
   "id": "a77eef23",
   "metadata": {},
   "outputs": [],
   "source": [
    "from qiskit.quantum_info import ###\n",
    "\n",
    "#10.1 Set up the different observables for the Ising Hamiltonian ###\n",
    "observables_labels = ###\n",
    "observables = [SparsePauliOp(label) for label in observables_labels]\n",
    "\n",
    "### ------------------------------------------------------------ ###\n",
    "\n",
    "#10.2 Set up Hamiltonian parameters\n",
    "\n",
    "\n",
    "\n",
    "# Hint: what parameters do we need to define the Hamiltonian?\n",
    "\n",
    "### ------------------------------------------------------------ ###\n",
    "\n",
    "\n",
    "def Hamiltonian(### add parameters):\n",
    "    \n",
    "    #10.3 Define and return Hamiltonian ###\n",
    "\n",
    "\n",
    "    ### ------------------------------- ###"
   ]
  },
  {
   "cell_type": "markdown",
   "id": "1a097cd3",
   "metadata": {},
   "source": [
    "### Classical solution for benchmarking"
   ]
  },
  {
   "cell_type": "code",
   "execution_count": null,
   "id": "d50ddeb3",
   "metadata": {},
   "outputs": [],
   "source": [
    "from numpy import ###\n",
    "\n",
    "# 11.1 Define classical variables ###\n",
    "\n",
    "# Define empty eigenvalues list\n",
    "# Define empty eigenvector list\n",
    "# Define empty energy_levels list\n",
    "\n",
    "### ----------------------------- ###\n",
    "\n",
    "# 11.2 Loop on magnetic field range ###\n",
    "for b in ###:\n",
    "\n",
    "    #11.2.1 Configure the Hamiltonian ###\n",
    "\n",
    "\n",
    "    ### ----------------------------- ###\n",
    "    \n",
    "    #11.2.2 Extract and order eigenvalues ans eigenvectors ###\n",
    "\n",
    "\n",
    "    ### -------------------------------------------------- ###\n",
    "\n",
    "    # 11.2.3 Sort eigenvalues and append to energy levels ###\n",
    "\n",
    "    \n",
    "    ### ------------------------------------------------- ###"
   ]
  },
  {
   "cell_type": "markdown",
   "id": "f843bfe7",
   "metadata": {},
   "source": [
    "### Quantum approach\n",
    "\n",
    "##### Ansatz creation\n",
    "In this example several ansatz creation techniques are included to understand the differences of these approaches.\n",
    "\n",
    "##### Ansatz transpilation \n",
    "To reduce the total job execution time, Qiskit primitives only accept circuits (ansatz) and observables (Hamiltonian) that conform to the instructions and connectivity supported by the target QPU (referred to as instruction set architecture (ISA) circuits and observables).\n",
    "\n",
    "Schedule a series of qiskit.transpiler  passes to optimize the circuit for a selected backend and make it compatible with the backend's ISA. This can be easily done with a preset pass manager from qiskit.transpiler and its optimization_level parameter."
   ]
  },
  {
   "cell_type": "code",
   "execution_count": null,
   "id": "f2e4ee8f",
   "metadata": {},
   "outputs": [],
   "source": [
    "from qiskit.circuit.library import ###\n",
    "from qiskit.circuit.library import ###\n",
    "from qiskit.circuit.library import ###\n",
    "\n",
    "#12.1 Ansatz creation ###\n",
    "ans = \"\"\n",
    "\n",
    "if ans == \"\":\n",
    "    ansatz = ###\n",
    "elif ans == \"\":\n",
    "    ansatz = ###\n",
    "elif ans == \"\":\n",
    "    ansatz = ###\n",
    "\n",
    "### ------------------ ###\n",
    "\n",
    "\n",
    "from qiskit.transpiler.preset_passmanagers import ###\n",
    "from qiskit import ###\n",
    "\n",
    "#12.2 Transpilation process ###\n",
    "\n",
    "# Select backend type: simulator or hardware\n",
    "\n",
    "if ###:\n",
    "    \n",
    "    # Hint 1: for simulator, use passmanager\n",
    "\n",
    "    isa_ansatz = ###\n",
    "\n",
    "else:\n",
    "\n",
    "    # Hint 2: for hardware, use directly the transpilation on hardware\n",
    "    isa_ansatz = ###\n",
    "\n",
    "### ----------------------- ###\n",
    "\n",
    "\n",
    "#12.3 Ansatz drawing ###\n",
    "\n",
    "# Hint: use also decomposition function\n",
    "\n",
    "### ---------------- ###\n"
   ]
  },
  {
   "cell_type": "markdown",
   "id": "4c7597e0",
   "metadata": {},
   "source": [
    "##### Cost function creation\n",
    "\n",
    "The cost function returns the estimation of energy performed by the Estimator primitive"
   ]
  },
  {
   "cell_type": "code",
   "execution_count": null,
   "id": "f1a63a9d",
   "metadata": {},
   "outputs": [],
   "source": [
    "# Define cost function\n",
    "cost_history_dict = {\n",
    "    \"prev_vector\": None,\n",
    "    \"iters\": 0,\n",
    "    \"cost_history\": [],\n",
    "   }\n",
    "    \n",
    "def cost_func(params, ansatz, hamiltonian, estimator):\n",
    "    \"\"\"Return estimate of energy from estimator\n",
    "\n",
    "    Parameters:\n",
    "        params (ndarray): Array of ansatz parameters\n",
    "        ansatz (QuantumCircuit): Parameterized ansatz circuit\n",
    "        hamiltonian (SparsePauliOp): Operator representation of Hamiltonian\n",
    "        estimator (EstimatorV2): Estimator primitive instance\n",
    "        cost_history_dict: Dictionary for storing intermediate results\n",
    "\n",
    "    Returns:\n",
    "        float: Energy estimate\n",
    "    \"\"\"\n",
    "    #13. Here you can see the code that evaluates the ansatz with a specific set of parameters and then measures the observable hamiltonian. ###\n",
    "    \n",
    "    pub = ###\n",
    "    partial_result = ###\n",
    "    energy = ###\n",
    "\n",
    "    ### ----------------------------------------------------------------------------------------------------------------------------------- ###\n",
    "\n",
    "    cost_history_dict[\"iters\"] += ###\n",
    "    cost_history_dict[\"prev_vector\"] = ###\n",
    "    cost_history_dict[\"cost_history\"].###\n",
    "    print(f\"Iters. done: {cost_history_dict['iters']} [Current cost: {energy}]\")\n",
    "\n",
    "    return energy"
   ]
  },
  {
   "cell_type": "markdown",
   "id": "6ddc31d7",
   "metadata": {},
   "source": [
    "##### Data vatiables reset\n",
    "\n",
    "Warning: use only if needed, it will delete all results.\n",
    "\n",
    "In case of quantum hardware runs, results can be found on quantum.ibm.com or quantum.cloud.ibm.com (depending on the platform chosen)."
   ]
  },
  {
   "cell_type": "code",
   "execution_count": null,
   "id": "faf1caee",
   "metadata": {},
   "outputs": [],
   "source": [
    "# WARNING - Simulated Ground State energy reset\n",
    "ground_state_energies_simulator = []"
   ]
  },
  {
   "cell_type": "code",
   "execution_count": null,
   "id": "0a038896",
   "metadata": {},
   "outputs": [],
   "source": [
    "# WARNING - Hardware computed Ground State energy reset\n",
    "ground_state_energies_hardware = []"
   ]
  },
  {
   "cell_type": "markdown",
   "id": "416d61d9",
   "metadata": {},
   "source": [
    "##### Quantum runs"
   ]
  },
  {
   "cell_type": "code",
   "execution_count": null,
   "id": "1068a0d8",
   "metadata": {},
   "outputs": [],
   "source": [
    "from scipy.optimize import ###\n",
    "from qiskit_ibm_runtime import ###, ### as ###\n",
    "\n",
    "# Session open\n",
    "with Session(backend=backend) as session:\n",
    "\n",
    "    #14. Initialize Estimator\n",
    "    estimator = Estimator()\n",
    "\n",
    "    #14.1 Set shots number and resiliency level (optional, up to 2 for Estimator) ###\n",
    "\n",
    "\n",
    "\n",
    "    ### ------------------------------------------------------------------------- ###\n",
    "\n",
    "    \n",
    "    # 14.2 Loop for each field value\n",
    "    for b in ###:\n",
    "        \n",
    "        #14.2.1 Configure the Hamiltonian ###\n",
    "\n",
    "\n",
    "        ### ----------------------------- ###\n",
    "\n",
    "        #14.2.2 Convert to ISA Hamiltonian ###\n",
    "\n",
    "\n",
    "        ### ------------------------------ ###    \n",
    "    \n",
    "        \n",
    "        # Random initial parameters\n",
    "        initial_point = np.random.rand(ansatz.num_parameters) * 2 * np.pi\n",
    "\n",
    "\n",
    "        # 14.3 Open Session and start minimization process with Estimator and scipy minimize ###\n",
    "\n",
    "\n",
    "        # Hint: don't forget to close the session at the end of the process!\n",
    "\n",
    "        ### -------------------------------------------------------------------------------- ###\n",
    "\n",
    "\n",
    "        # Results extraction\n",
    "        if run_target == 'simulator':\n",
    "            ground_state_energies_simulator.append(res.fun)\n",
    "        else:\n",
    "            ground_state_energies_hardware.append(res.fun)\n"
   ]
  },
  {
   "cell_type": "markdown",
   "id": "062ce840",
   "metadata": {},
   "source": [
    "#### Plot results"
   ]
  },
  {
   "cell_type": "code",
   "execution_count": null,
   "id": "0c5d5bfb",
   "metadata": {},
   "outputs": [],
   "source": [
    "fig, ax = plt.subplots()\n",
    "ax.set(xlabel='B field', ylabel='Energy', title='2 qubits Ising Hamiltonian Ground State')\n",
    "\n",
    "# Classically computed energy levels\n",
    "ax.plot(b_list, energy_levels, color=\"#c2c2c2\", linewidth=0.5)\n",
    "\n",
    "# Quantum computed Ground State\n",
    "ax.scatter(b_list, ground_state_energies_simulator, marker='o', color='b', label=\"Ground State energy - aer_simulator\")\n",
    "\n",
    "if len(ground_state_energies_hardware) > 0:\n",
    "    ax.scatter(b_list, ground_state_energies_hardware, marker='^', color='g', label=\"Ground State energy - \"+backend.name)\n",
    "\n",
    "ax.legend()\n",
    "plt.show()"
   ]
  },
  {
   "cell_type": "code",
   "execution_count": null,
   "id": "c2ed1fff",
   "metadata": {},
   "outputs": [],
   "source": [
    "#15. Print optimization process details ###\n",
    "\n",
    "\n",
    "\n",
    "\n",
    "\n",
    "### ----------------------------------- ###"
   ]
  }
 ],
 "metadata": {
  "kernelspec": {
   "display_name": "qiskit_2",
   "language": "python",
   "name": "python3"
  },
  "language_info": {
   "codemirror_mode": {
    "name": "ipython",
    "version": 3
   },
   "file_extension": ".py",
   "mimetype": "text/x-python",
   "name": "python",
   "nbconvert_exporter": "python",
   "pygments_lexer": "ipython3",
   "version": "3.10.8"
  }
 },
 "nbformat": 4,
 "nbformat_minor": 5
}
